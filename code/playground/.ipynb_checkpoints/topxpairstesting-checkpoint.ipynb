{
 "cells": [
  {
   "cell_type": "code",
   "execution_count": 1,
   "id": "initial_id",
   "metadata": {
    "ExecuteTime": {
     "end_time": "2025-08-08T12:05:23.975424Z",
     "start_time": "2025-08-08T12:05:07.158412Z"
    },
    "collapsed": true
   },
   "outputs": [
    {
     "name": "stdout",
     "output_type": "stream",
     "text": [
      "Output path: /home/kardosp/entity_alignment/kg_entity_alignment_2024/repo_features/dogtag_short_embeddings\n",
      "TOPK: 10\n"
     ]
    }
   ],
   "source": [
    "import os\n",
    "import sys\n",
    "\n",
    "utils_path = os.path.join(os.path.dirname(os.getcwd()), 'algos')\n",
    "sys.path.append(utils_path)\n",
    "import json\n",
    "from utils.loaders import load_graph, graph_folder_path, gold_folder_path, load_gold\n",
    "import torch\n",
    "from sentence_transformers import util, SentenceTransformer\n",
    "from sentence_transformers.util import cos_sim\n",
    "from utils.dedup import select_max_similarity\n",
    "from utils.eval import evaluate_preds_extended_discard\n",
    "\n",
    "\n",
    "class args:\n",
    "    folder = \"/home/kardosp/entity_alignment/kg_entity_alignment_2024/repo_features/dogtag_short_embeddings\"\n",
    "    output = \"/home/kardosp/entity_alignment/kg_entity_alignment_2024/repo_features/dogtag_short_embeddings\"\n",
    "    topk = 10\n",
    "\n",
    "if not os.path.exists(args.output):\n",
    "    os.makedirs(args.output)\n",
    "\n",
    "golds = os.listdir(gold_folder_path)\n",
    "\n",
    "output_container = dict()\n",
    "res_container_backward = dict()\n",
    "\n",
    "print(\"Output path:\", args.output)\n",
    "print(f\"TOPK: {args.topk}\")\n",
    "\n",
    "for gold in golds:\n",
    "    break\n"
   ]
  },
  {
   "cell_type": "code",
   "execution_count": 2,
   "id": "9ccbaee4a3a36d32",
   "metadata": {
    "ExecuteTime": {
     "end_time": "2025-08-08T12:05:25.067474Z",
     "start_time": "2025-08-08T12:05:25.050423Z"
    }
   },
   "outputs": [
    {
     "data": {
      "text/plain": [
       "['mcu-marvel.json',\n",
       " 'memoryalpha-memorybeta.json',\n",
       " 'stexpanded-memoryalpha.json',\n",
       " 'swg-starwars.json',\n",
       " 'swtor-starwars.json']"
      ]
     },
     "execution_count": 2,
     "metadata": {},
     "output_type": "execute_result"
    }
   ],
   "source": [
    "golds"
   ]
  },
  {
   "cell_type": "code",
   "execution_count": 3,
   "id": "5b4d4158135eb820",
   "metadata": {
    "ExecuteTime": {
     "end_time": "2025-08-08T12:05:25.161621Z",
     "start_time": "2025-08-08T12:05:25.154129Z"
    }
   },
   "outputs": [
    {
     "data": {
      "text/plain": [
       "'stexpanded-memoryalpha.json'"
      ]
     },
     "execution_count": 3,
     "metadata": {},
     "output_type": "execute_result"
    }
   ],
   "source": [
    "gold = golds[2]\n",
    "gold"
   ]
  },
  {
   "cell_type": "code",
   "execution_count": 4,
   "id": "d8d34fdf0f1476ca",
   "metadata": {
    "ExecuteTime": {
     "end_time": "2025-08-08T12:11:04.972752Z",
     "start_time": "2025-08-08T12:05:38.430539Z"
    }
   },
   "outputs": [
    {
     "name": "stdout",
     "output_type": "stream",
     "text": [
      "stexpanded-memoryalpha.json\n",
      "OK1\n"
     ]
    }
   ],
   "source": [
    "print(gold)\n",
    "\n",
    "g1, g2 = gold.split(\".\")[0].split(\"-\")\n",
    "loaded_gold = load_gold(gold)\n",
    "\n",
    "with open(os.path.join(args.folder, g1+\".json\"), \"r\") as f:\n",
    "    g1_embedding = json.load(f)\n",
    "with open(os.path.join(args.folder, g2+\".json\"), \"r\") as f:\n",
    "    g2_embedding = json.load(f)\n",
    "\n",
    "g1_torch_embeds = torch.Tensor(list(g1_embedding.values()))\n",
    "g2_torch_embeds = torch.Tensor(list(g2_embedding.values()))\n",
    "top_pairs = util.semantic_search(g1_torch_embeds, g2_torch_embeds, top_k=args.topk)\n",
    "\n",
    "top_pairs_dict = dict()\n",
    "g2_keys = list(g2_embedding.keys())\n",
    "g1_keys = list(g1_embedding.keys())\n",
    "\n",
    "for a, b in zip(list(g1_embedding.keys()), top_pairs):\n",
    "    element = b[0]\n",
    "    top_pairs_dict[str(a)] = [g2_keys[element[\"corpus_id\"]], element[\"score\"]]"
   ]
  },
  {
   "cell_type": "code",
   "execution_count": 5,
   "id": "f08f26bd68511dad",
   "metadata": {
    "ExecuteTime": {
     "end_time": "2025-08-08T12:22:41.056582Z",
     "start_time": "2025-08-08T12:22:41.047937Z"
    }
   },
   "outputs": [
    {
     "name": "stdout",
     "output_type": "stream",
     "text": [
      "http://dbkwik.webdatacommons.org/stexpanded.wikia.com/resource/Gordon_Connors ['http://dbkwik.webdatacommons.org/memory-alpha.wikia.com/resource/Seventh_Tactical_Wing', 0.6555746793746948]\n"
     ]
    }
   ],
   "source": [
    "for k, v in top_pairs_dict.items():\n",
    "    print(k, v)\n",
    "    break"
   ]
  },
  {
   "cell_type": "code",
   "execution_count": null,
   "id": "970afcd6f8126e64",
   "metadata": {},
   "outputs": [],
   "source": []
  },
  {
   "cell_type": "code",
   "execution_count": null,
   "id": "3d5e52bcbbacb465",
   "metadata": {},
   "outputs": [],
   "source": [
    "import sys\n",
    "utils_path = os.path.join(os.path.dirname(os.getcwd()), 'algos')\n",
    "sys.path.append(utils_path)\n",
    "from sentence_transformers import SentenceTransformer\n",
    "import os\n",
    "import pickle\n",
    "import json\n",
    "from utils.loaders import load_graph, graph_folder_path, gold_folder_path, load_gold\n",
    "from tqdm import tqdm\n",
    "import torch\n",
    "from sentence_transformers import util, SentenceTransformer\n",
    "from sentence_transformers.util import cos_sim\n",
    "from tqdm import tqdm\n",
    "from collections import defaultdict\n",
    "import argparse\n",
    "import random\n",
    "# pairs: /home/kardosp/entity_alignment/kg_entity_alignment_2024/features/top10pairs/dogtagV5/backward\n",
    "# dogtag: /home/kardosp/entity_alignment/kg_entity_alignment_2024/features/dogtags/version5/\n",
    "# output: /home/kardosp/entity_alignment/kg_entity_alignment_2024/features/genai/dogtagV5_top10_backward\n",
    "\n",
    "\n",
    "parser = argparse.ArgumentParser()\n",
    "parser.add_argument(\"-p\", \"--pairs\", help=\"TopX pairs folder path\")\n",
    "parser.add_argument(\"-d\", \"--dogtag\", help=\"Dogtag description folder path\")\n",
    "parser.add_argument(\"-o\", \"--output\", help=\"Output folder\")\n",
    "parser.add_argument(\"-m\", \"--method\", type=int, default=1, help=\"Options: [1,2], 1 - Not strict, 2 - Strict\")\n",
    "args = parser.parse_args()\n",
    "\n",
    "\n",
    "def construct_prompt(anchor, candidates):\n",
    "    candidate_str = \"\"\n",
    "    for i, candidate in enumerate(candidates):\n",
    "        candidate_str += \"<EXAMPLE>\\nID:{}\\n\".format(str(i + 1))\n",
    "        candidate_str += f\"{candidate}\\n\"\n",
    "        candidate_str += \"</EXAMPLE>\\n\"\n",
    "\n",
    "    return f\"\"\"TASK: You will be given a description of an anchor entity and a list of candidate entities, all formatted with <EXAMPLE> tags. Your task is to:\n",
    "- Identify the candidate entity that is the same as the anchor entity.\n",
    "- Return the ID number of the matching candidate entity.\n",
    "- If none of the candidates match the anchor entity, return -1.\n",
    "- Answer with the ID (or -1) only, no explanations\n",
    "###\n",
    "<ANCHOR>\n",
    "{anchor}\n",
    "</ANCHOR>\n",
    "###\n",
    "{candidate_str}\n",
    "###\n",
    "Answer:\"\"\"\n",
    "\n",
    "\n",
    "def construct_prompt2(anchor, candidates):\n",
    "    candidate_str = \"\"\n",
    "    for i, candidate in enumerate(candidates):\n",
    "        candidate_str += \"<EXAMPLE>\\nID:{}\\n\".format(str(i + 1))\n",
    "        candidate_str += f\"{candidate}\\n\"\n",
    "        candidate_str += \"</EXAMPLE>\\n\"\n",
    "\n",
    "    return f\"\"\"TASK: You will be given a description of an anchor entity and a list of candidate entities, all formatted with <EXAMPLE> tags. Your task is to:\n",
    "- Identify the candidate entity that is the same as the anchor entity.\n",
    "- Return the ID number of the matching candidate entity. The selected Candidate MUST BE the same as the Anchor entity. \n",
    "- If none of the candidates match the anchor entity, return -1.\n",
    "- Answer with the ID (or -1) only, no explanations\n",
    "###\n",
    "<ANCHOR>\n",
    "{anchor}\n",
    "</ANCHOR>\n",
    "###\n",
    "{candidate_str}\n",
    "###\n",
    "Answer:\"\"\"\n",
    "\n",
    "\n",
    "def extract_missing_golds(gold, pairs):\n",
    "    remaining = list()\n",
    "\n",
    "    for g in gold:\n",
    "        flag = False\n",
    "        for p in pairs:\n",
    "            if g[0] == p[0] and g[1] == p[1]:\n",
    "                flag = True\n",
    "                break\n",
    "        if flag is False:\n",
    "            remaining.append(g)\n",
    "    return remaining\n",
    "\n",
    "\n",
    "def sample_list(input_list, max_samples=100):\n",
    "    if len(input_list) > max_samples:\n",
    "        return random.sample(input_list, max_samples)\n",
    "    return input_list\n",
    "\n",
    "def rows_to_str(container):\n",
    "    result = dict()\n",
    "    for row_key, row_value in container.items():\n",
    "        records = list()\n",
    "        for element_key, element_value in row_value.items():\n",
    "            if len(element_value) == 1:\n",
    "                records.append([element_key, element_value[0][:1000]])\n",
    "            else:\n",
    "                # TODO - sample 20\n",
    "                val = element_value\n",
    "                if len(element_value) > 20:\n",
    "                    val = sample_list(val, 20)\n",
    "                records.append([element_key, val])\n",
    "        result[row_key] = \"\\n\".join(\n",
    "            [f'{rec[0]}: {rec[1]}' for rec in records])\n",
    "    return result\n",
    "\n",
    "\n",
    "def get_prompt(anchor, candidates, method):\n",
    "    if method == 1:\n",
    "        return construct_prompt(anchor, candidates)\n",
    "    elif method == 2:\n",
    "        return construct_prompt2(anchor, candidates)\n",
    "    else:\n",
    "        raise ValueError(\"Method must be 1 or 2\")"
   ]
  },
  {
   "cell_type": "code",
   "execution_count": null,
   "id": "5f68840e24d64a85",
   "metadata": {},
   "outputs": [],
   "source": [
    "graph_pairs = list(filter(lambda x: \".xml\" in x, os.listdir(os.path.split(gold_folder_path)[0])))\n",
    "graph_pairs"
   ]
  }
 ],
 "metadata": {
  "kernelspec": {
   "display_name": "kgmatch25",
   "language": "python",
   "name": "kgmatch25"
  },
  "language_info": {
   "codemirror_mode": {
    "name": "ipython",
    "version": 2
   },
   "file_extension": ".py",
   "mimetype": "text/x-python",
   "name": "python",
   "nbconvert_exporter": "python",
   "pygments_lexer": "ipython2",
   "version": "2.7.6"
  }
 },
 "nbformat": 4,
 "nbformat_minor": 5
}
